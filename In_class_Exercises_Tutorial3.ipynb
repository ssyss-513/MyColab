{
  "cells": [
    {
      "cell_type": "markdown",
      "metadata": {
        "id": "view-in-github",
        "colab_type": "text"
      },
      "source": [
        "<a href=\"https://colab.research.google.com/github/ssyss-513/MyColab/blob/main/In_class_Exercises_Tutorial3.ipynb\" target=\"_parent\"><img src=\"https://colab.research.google.com/assets/colab-badge.svg\" alt=\"Open In Colab\"/></a>"
      ]
    },
    {
      "cell_type": "markdown",
      "id": "a18aeca5",
      "metadata": {
        "id": "a18aeca5"
      },
      "source": [
        "\n",
        "# Tutorial 3 — In-class Exercises (Solutions)\n",
        "\n",
        "This notebook contains Python code and results for the **In-class Exercises** from Tutorial 3:\n",
        "- Q3: t distribution (df=5)\n",
        "- Q4: Poisson distribution (λ=4)\n",
        "- Q6: Normal distribution MLE\n"
      ]
    },
    {
      "cell_type": "markdown",
      "id": "2561d3ce",
      "metadata": {
        "id": "2561d3ce"
      },
      "source": [
        "\n",
        "## Q3. t distribution (df=5)\n",
        "\n",
        "We compute:\n",
        "- a) density function at x = -0.1  \n",
        "- b) cumulative distribution function at x = 0.1  \n",
        "- c) 0.75 quantile  \n",
        "- d) generate n=100 random samples  \n"
      ]
    },
    {
      "cell_type": "code",
      "execution_count": null,
      "id": "3fe7ad68",
      "metadata": {
        "id": "3fe7ad68",
        "outputId": "66993577-a328-48f3-e5a2-56fa11b466b3",
        "colab": {
          "base_uri": "https://localhost:8080/"
        }
      },
      "outputs": [
        {
          "output_type": "stream",
          "name": "stdout",
          "text": [
            "a) pdf(-0.1) = 0.3773381299664312\n",
            "b) cdf(0.1) = 0.5378849294226699\n",
            "c) ppf(0.75) = 0.7266868437979397\n",
            "d) First 10 samples: [-0.18842061  0.59553567  0.0909567   1.05277133  1.82200802  0.61705995\n",
            " -2.45336675  0.92786452  5.17784521  0.71765438]\n"
          ]
        }
      ],
      "source": [
        "\n",
        "import numpy as np\n",
        "import scipy.stats as stats\n",
        "\n",
        "# set random seed for reproducibility\n",
        "np.random.seed(12345)\n",
        "\n",
        "df = 5\n",
        "# a) pdf at x=-0.1\n",
        "t_pdf_m01 = stats.t.pdf(-0.1, df=df)\n",
        "# b) cdf at x=0.1\n",
        "t_cdf_01 = stats.t.cdf(0.1, df=df)\n",
        "# c) 0.75 quantile\n",
        "t_ppf_075 = stats.t.ppf(0.75, df=df)\n",
        "# d) 100 random samples\n",
        "t_samples = stats.t.rvs(df=df, size=100, random_state=12345)\n",
        "\n",
        "print(\"a) pdf(-0.1) =\", t_pdf_m01)\n",
        "print(\"b) cdf(0.1) =\", t_cdf_01)\n",
        "print(\"c) ppf(0.75) =\", t_ppf_075)\n",
        "print(\"d) First 10 samples:\", t_samples[:10])\n"
      ]
    },
    {
      "cell_type": "markdown",
      "id": "3aa779d9",
      "metadata": {
        "id": "3aa779d9"
      },
      "source": [
        "\n",
        "## Q4. Poisson distribution (λ=4)\n",
        "\n",
        "We compute:\n",
        "- a) probability mass function at k = 2  \n",
        "- b) cumulative distribution function at k = 6  \n",
        "- c) 0.95 quantile  \n",
        "- d) generate m=100 random samples  \n"
      ]
    },
    {
      "cell_type": "code",
      "execution_count": null,
      "id": "33261ace",
      "metadata": {
        "id": "33261ace",
        "outputId": "60e9897d-3ba0-450c-e029-6839c3841c5a",
        "colab": {
          "base_uri": "https://localhost:8080/"
        }
      },
      "outputs": [
        {
          "output_type": "stream",
          "name": "stdout",
          "text": [
            "a) pmf(2) = 0.14652511110987343\n",
            "b) cdf(6) = 0.8893260215974264\n",
            "c) ppf(0.95) = 8\n",
            "d) First 10 samples: [3 8 3 8 4 2 3 6 4 5]\n"
          ]
        }
      ],
      "source": [
        "\n",
        "lam = 4\n",
        "# a) pmf at k=2\n",
        "pois_pmf_2 = stats.poisson.pmf(2, mu=lam)\n",
        "# b) cdf at k=6\n",
        "pois_cdf_6 = stats.poisson.cdf(6, mu=lam)\n",
        "# c) 0.95 quantile\n",
        "pois_ppf_095 = stats.poisson.ppf(0.95, mu=lam)\n",
        "# d) 100 samples\n",
        "pois_samples = stats.poisson.rvs(mu=lam, size=100, random_state=12345)\n",
        "\n",
        "print(\"a) pmf(2) =\", pois_pmf_2)\n",
        "print(\"b) cdf(6) =\", pois_cdf_6)\n",
        "print(\"c) ppf(0.95) =\", int(pois_ppf_095))\n",
        "print(\"d) First 10 samples:\", pois_samples[:10])\n"
      ]
    },
    {
      "cell_type": "markdown",
      "id": "b11e40c9",
      "metadata": {
        "id": "b11e40c9"
      },
      "source": [
        "\n",
        "## Q6. Normal distribution MLE\n",
        "\n",
        "We generate 100 random variables from N(µ=5, σ²=4), then estimate parameters using MLE:\n",
        "- µ̂ = sample mean  \n",
        "- σ²̂ = sample variance with ddof=0 (MLE)  \n",
        "Also compute 95% CI for µ.  \n"
      ]
    },
    {
      "cell_type": "code",
      "execution_count": null,
      "id": "f444f957",
      "metadata": {
        "id": "f444f957",
        "outputId": "064254e8-7993-4902-cf49-d91e1b44cf41",
        "colab": {
          "base_uri": "https://localhost:8080/"
        }
      },
      "outputs": [
        {
          "output_type": "stream",
          "name": "stdout",
          "text": [
            "Sample mean (mu MLE) = 5.067228776417728\n",
            "Sample variance (sigma^2 MLE) = 4.285600862066755\n",
            "95% CI for mu = (np.float64(4.661475596864991), np.float64(5.472981955970466))\n"
          ]
        }
      ],
      "source": [
        "\n",
        "# Generate data\n",
        "normal_samples = np.random.normal(loc=5, scale=2, size=100)\n",
        "\n",
        "# MLE estimates\n",
        "mu_mle = normal_samples.mean()\n",
        "sigma2_mle = normal_samples.var(ddof=0)\n",
        "\n",
        "# 95% CI for mu\n",
        "n = len(normal_samples)\n",
        "se_mu = np.sqrt(sigma2_mle / n)\n",
        "z = 1.96\n",
        "ci_mu = (mu_mle - z*se_mu, mu_mle + z*se_mu)\n",
        "\n",
        "print(\"Sample mean (mu MLE) =\", mu_mle)\n",
        "print(\"Sample variance (sigma^2 MLE) =\", sigma2_mle)\n",
        "print(\"95% CI for mu =\", ci_mu)\n"
      ]
    }
  ],
  "metadata": {
    "colab": {
      "provenance": [],
      "include_colab_link": true
    },
    "language_info": {
      "name": "python"
    },
    "kernelspec": {
      "name": "python3",
      "display_name": "Python 3"
    }
  },
  "nbformat": 4,
  "nbformat_minor": 5
}