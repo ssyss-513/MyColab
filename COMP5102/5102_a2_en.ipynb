{
 "cells": [
  {
   "cell_type": "markdown",
   "id": "3ebbc06f",
   "metadata": {},
   "source": [
    "# Data Science Principles Assignment (DSAI5102) Solution Implementation\n",
    "## Environment Setup\n",
    "First, import the required Python libraries, including tools for numerical computation, statistical analysis, and visualization:\n"
   ]
  },
  {
   "cell_type": "code",
   "execution_count": null,
   "id": "5dcc0281",
   "metadata": {},
   "outputs": [],
   "source": [
    "import numpy as np\n",
    "from scipy import stats\n",
    "import matplotlib.pyplot as plt\n",
    "from scipy.stats import t, chi2, gamma, expon\n",
    "import pandas as pd\n",
    "\n",
    "plt.rcParams['font.family'] = 'Heiti TC'  # Replace with your chosen font\n",
    "\n",
    "# Set random seed (ensure reproducibility)\n",
    "np.random.seed(5102)\n"
   ]
  },
  {
   "cell_type": "markdown",
   "id": "2974ea44",
   "metadata": {},
   "source": [
    "# Question 1: Estimation of the upper bound of a uniform distribution\n",
    "\n",
    "## Problem Background\n",
    "Let $X_1, X_2$ be independent and identically distributed random variables in $U[0, \\theta]$ (where $\\theta > 0$ is unknown). Consider the estimator in the form: $d_c(X_1,X_2) = c \\cdot \\max(X_1,X_2)$. The problems of risk calculation, unbiasedness, and admissibility need to be addressed."
   ]
  },
  {
   "cell_type": "markdown",
   "id": "c3180804",
   "metadata": {},
   "source": [
    "### Part (a): Calculation of the Risk Function under Squared Loss\n",
    "\n",
    "#### Solution Approach\n",
    "\n",
    "1. **Definition of Risk Function**: Under squared loss, the risk function is the expected loss of the estimator:\n",
    "\n",
    "$R(\\theta, d_c) = \\mathbb{E}_\\theta\\left[(d_c - \\theta)^2\\right] = \\mathbb{E}_\\theta\\left[(c \\cdot \\max(X_1,X_2) - \\theta)^2\\right]$.\n",
    "\n",
    "2. **Key Steps**:\n",
    "\n",
    "- Step 1: Find the distribution of $\\max(X_1,X_2)$ (denoted as $M$) (CDF → PDF);\n",
    "\n",
    "- Step 2: Calculate the expected value $\\mathbb{E}[M]$ and the second moment $\\mathbb{E}[M^2]$ of $M$;\n",
    "\n",
    "- Step 3: Expand the risk function and substitute the expected value.\n",
    "\n",
    "#### Core Formulas\n",
    "\n",
    "1. CDF (Independence of Uniform Distribution) of $M$:\n",
    "\n",
    "F_M(m) = P(M \\leq m) = P(X_1 \\leq m)P(X_2 \\leq m) = \\left(\\frac{m}{\\theta}\\right)^2$ ($0 \\leq m \\leq \\theta$).\n",
    "\n",
    "2. PDF (Differential of CDF) of $M$:\n",
    "\n",
    "f_M(m) = \\frac{dF_M(m)}{dm} = \\frac{2m}{\\theta^2}$ ($0 \\leq m \\leq \\theta$).\n",
    "\n",
    "3. Expectation and Second Moment:\n",
    "\n",
    "$\\mathbb{E}[M] = \\int_0^\\theta m \\cdot f_M(m)dm = \\frac{2\\theta}{3}$,\n",
    "\n",
    "$\\mathbb{E}[M^2] = \\int_0^\\theta m^2 \\cdot f_M(m)dm = \\frac{\\theta^2}{2}$.\n",
    "\n",
    "4. Risk Function Expansion:\n",
    "\n",
    "$R(\\theta, d_c) = c^2\\mathbb{E}[M^2] - 2c\\theta\\mathbb{E}[M] + \\theta^2 = \\left(\\frac{c^2}{2} - \\frac{4c}{3} + 1\\right)\\theta^2$."
   ]
  }
 ],
 "metadata": {
  "kernelspec": {
   "display_name": "py310",
   "language": "python",
   "name": "python3"
  },
  "language_info": {
   "codemirror_mode": {
    "name": "ipython",
    "version": 3
   },
   "file_extension": ".py",
   "mimetype": "text/x-python",
   "name": "python",
   "nbconvert_exporter": "python",
   "pygments_lexer": "ipython3",
   "version": "3.10.19"
  }
 },
 "nbformat": 4,
 "nbformat_minor": 5
}
