{
  "cells": [
    {
      "cell_type": "markdown",
      "metadata": {
        "id": "view-in-github",
        "colab_type": "text"
      },
      "source": [
        "<a href=\"https://colab.research.google.com/github/ssyss-513/MyColab/blob/main/COMP5511_Tutorial4_Solutions.ipynb\" target=\"_parent\"><img src=\"https://colab.research.google.com/assets/colab-badge.svg\" alt=\"Open In Colab\"/></a>"
      ]
    },
    {
      "cell_type": "markdown",
      "id": "02926b16",
      "metadata": {
        "id": "02926b16"
      },
      "source": [
        "# COMP5511 Tutorial 4 Exercises\n",
        "\n",
        "This notebook contains solutions to the tutorial exercises."
      ]
    },
    {
      "cell_type": "markdown",
      "id": "048a9853",
      "metadata": {
        "id": "048a9853"
      },
      "source": [
        "## Exercise 1: Regression"
      ]
    },
    {
      "cell_type": "code",
      "execution_count": null,
      "id": "f35f18d7",
      "metadata": {
        "id": "f35f18d7"
      },
      "outputs": [],
      "source": [
        "\n",
        "import numpy as np\n",
        "\n",
        "# Dataset\n",
        "X = np.array([1, 2, 3, 4, 5])\n",
        "Y = np.array([3, 5, 7, 9, 11])\n",
        "\n",
        "# 1. Calculate mean\n",
        "X_mean = np.mean(X)\n",
        "Y_mean = np.mean(Y)\n",
        "print(\"Mean of X:\", X_mean)\n",
        "print(\"Mean of Y:\", Y_mean)\n",
        "\n",
        "# 2. Calculate slope (beta1) and intercept (beta0)\n",
        "numerator = np.sum((X - X_mean) * (Y - Y_mean))\n",
        "denominator = np.sum((X - X_mean)**2)\n",
        "beta1 = numerator / denominator\n",
        "beta0 = Y_mean - beta1 * X_mean\n",
        "\n",
        "print(\"Slope (beta1):\", beta1)\n",
        "print(\"Intercept (beta0):\", beta0)\n",
        "\n",
        "# 3. Regression line equation\n",
        "print(f\"Regression line: Y = {beta0} + {beta1}*X\")\n",
        "\n",
        "# 4. Prediction when X=6\n",
        "Y_pred = beta0 + beta1 * 6\n",
        "print(\"Predicted Y when X=6:\", Y_pred)\n"
      ]
    },
    {
      "cell_type": "markdown",
      "id": "49db8472",
      "metadata": {
        "id": "49db8472"
      },
      "source": [
        "## Exercise 2: Gradient Descent"
      ]
    },
    {
      "cell_type": "code",
      "execution_count": null,
      "id": "467ee597",
      "metadata": {
        "id": "467ee597"
      },
      "outputs": [],
      "source": [
        "\n",
        "# Cost function J(theta) = theta^2 - 4*theta + 4\n",
        "# Gradient: dJ/dtheta = 2*theta - 4\n",
        "\n",
        "alpha = 0.1\n",
        "iterations = 3\n",
        "theta = 0\n",
        "\n",
        "for i in range(1, iterations + 1):\n",
        "    gradient = 2*theta - 4\n",
        "    theta = theta - alpha * gradient\n",
        "    print(f\"Iteration {i}: theta = {theta}\")\n"
      ]
    },
    {
      "cell_type": "markdown",
      "id": "80d2ea5b",
      "metadata": {
        "id": "80d2ea5b"
      },
      "source": [
        "## Exercise 4: Schemata Theorem (Genetic Algorithm)"
      ]
    },
    {
      "cell_type": "code",
      "execution_count": null,
      "id": "1425a817",
      "metadata": {
        "id": "1425a817"
      },
      "outputs": [],
      "source": [
        "\n",
        "# Given data\n",
        "strings = [\"10001\", \"11100\", \"00011\", \"01110\"]\n",
        "fitness = [20, 10, 5, 15]\n",
        "Pm = 0.01\n",
        "Pcross = 1\n",
        "\n",
        "# Schema: 1****\n",
        "matches = [s for s in strings if s[0] == '1']\n",
        "ns_t = len(matches)\n",
        "\n",
        "# Length of string\n",
        "l = len(strings[0])\n",
        "\n",
        "# Order o(S) = 1, Defining length d(S) = 0\n",
        "# Average fitness of schema fit(S)\n",
        "fit_S = np.mean([fitness[i] for i, s in enumerate(strings) if s[0] == '1'])\n",
        "\n",
        "# Average fitness of population\n",
        "avg_fit = np.mean(fitness)\n",
        "\n",
        "# Expected number in next generation (simplified formula)\n",
        "expected_next = ns_t * (fit_S / avg_fit) * (1 - Pm)**1 * (1 - Pcross * (0/(l-1)))\n",
        "print(\"Expected number of schemata 1**** in next generation:\", expected_next)\n"
      ]
    }
  ],
  "metadata": {
    "colab": {
      "provenance": [],
      "include_colab_link": true
    }
  },
  "nbformat": 4,
  "nbformat_minor": 5
}