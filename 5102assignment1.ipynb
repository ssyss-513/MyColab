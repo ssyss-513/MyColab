{
  "nbformat": 4,
  "nbformat_minor": 0,
  "metadata": {
    "colab": {
      "provenance": [],
      "authorship_tag": "ABX9TyOWNVyTN5M4rp8Gze6yK3hx",
      "include_colab_link": true
    },
    "kernelspec": {
      "name": "python3",
      "display_name": "Python 3"
    },
    "language_info": {
      "name": "python"
    }
  },
  "cells": [
    {
      "cell_type": "markdown",
      "metadata": {
        "id": "view-in-github",
        "colab_type": "text"
      },
      "source": [
        "<a href=\"https://colab.research.google.com/github/ssyss-513/MyColab/blob/main/5102assignment1.ipynb\" target=\"_parent\"><img src=\"https://colab.research.google.com/assets/colab-badge.svg\" alt=\"Open In Colab\"/></a>"
      ]
    },
    {
      "cell_type": "code",
      "execution_count": null,
      "metadata": {
        "id": "02hJmyFtF62t"
      },
      "outputs": [],
      "source": []
    },
    {
      "cell_type": "markdown",
      "source": [
        "# 5102 assignment1 2025-10-5"
      ],
      "metadata": {
        "id": "LbiV9NhZMI80"
      }
    },
    {
      "cell_type": "code",
      "source": [
        "import numpy as np\n",
        "from scipy.stats import geom, chi2\n",
        "\n",
        "# -----------------------------\n",
        "# (1) Geometric Distribution\n",
        "# -----------------------------\n",
        "p = 0.2  # success probability\n",
        "\n",
        "P_K_eq_4 = geom.pmf(4, p)\n",
        "P_K_le_3 = geom.cdf(3, p)\n",
        "quantile_07 = geom.ppf(0.7, p)\n",
        "samples_geom = geom.rvs(p, size=100, random_state=5102)\n",
        "\n",
        "print(\"=== Geometric Distribution (p=0.2) ===\")\n",
        "print(\"P(K = 4) =\", P_K_eq_4)\n",
        "print(\"P(K ≤ 3) =\", P_K_le_3)\n",
        "print(\"0.7 quantile =\", quantile_07)\n",
        "print(\"First 10 random samples:\", samples_geom[:10], \"\\n\")\n",
        "\n",
        "# -----------------------------\n",
        "# (2) Chi-square Distribution\n",
        "# -----------------------------\n",
        "df = 4  # degrees of freedom\n",
        "\n",
        "density_x2 = chi2.pdf(2, df)\n",
        "P_X_le_3 = chi2.cdf(3, df)\n",
        "x_for_0_9 = chi2.ppf(0.9, df)\n",
        "samples_chi2 = chi2.rvs(df, size=100, random_state=5102)\n",
        "\n",
        "print(\"=== Chi-square Distribution (df=4) ===\")\n",
        "print(\"Density at x=2:\", density_x2)\n",
        "print(\"P(X ≤ 3) =\", P_X_le_3)\n",
        "print(\"x for P(X ≤ x) = 0.9:\", x_for_0_9)\n",
        "print(\"First 10 random samples:\", samples_chi2[:10])\n"
      ],
      "metadata": {
        "id": "45l7o6vTMNsS",
        "outputId": "22c44350-9e5f-4070-cc28-b98ac845d4b3",
        "colab": {
          "base_uri": "https://localhost:8080/"
        }
      },
      "execution_count": 1,
      "outputs": [
        {
          "output_type": "stream",
          "name": "stdout",
          "text": [
            "=== Geometric Distribution (p=0.2) ===\n",
            "P(K = 4) = 0.10240000000000003\n",
            "P(K ≤ 3) = 0.48800000000000004\n",
            "0.7 quantile = 6.0\n",
            "First 10 random samples: [ 3  4  5 10  1  5  1  2  1  4] \n",
            "\n",
            "=== Chi-square Distribution (df=4) ===\n",
            "Density at x=2: 0.18393972058572114\n",
            "P(X ≤ 3) = 0.4421745996289252\n",
            "x for P(X ≤ x) = 0.9: 7.779440339734858\n",
            "First 10 random samples: [7.82932614 0.42821481 3.80299977 1.96869378 3.34696078 1.22048759\n",
            " 4.31558593 1.65599799 4.96724188 2.8715342 ]\n"
          ]
        }
      ]
    },
    {
      "cell_type": "code",
      "source": [
        "import matplotlib.pyplot as plt\n",
        "import numpy as np\n",
        "from scipy.stats import geom, chi2, poisson\n",
        "\n",
        "plt.rcParams['figure.figsize'] = (12, 4)\n",
        "\n",
        "# ====================================\n",
        "# 1️⃣ Geometric Distribution\n",
        "# ====================================\n",
        "p = 0.2\n",
        "samples_geom = geom.rvs(p, size=100, random_state=5102)\n",
        "\n",
        "x_vals = np.arange(1, np.max(samples_geom)+1)\n",
        "pmf_vals = geom.pmf(x_vals, p)\n",
        "\n",
        "plt.subplot(1, 3, 1)\n",
        "plt.hist(samples_geom, bins=np.arange(1, np.max(samples_geom)+2)-0.5,\n",
        "         density=True, color='skyblue', edgecolor='black', alpha=0.7, label='Sample Histogram')\n",
        "plt.plot(x_vals, pmf_vals, 'r-o', label='Theoretical PMF')\n",
        "plt.title('Geometric(p=0.2)')\n",
        "plt.xlabel('K')\n",
        "plt.ylabel('Probability')\n",
        "plt.legend()\n",
        "\n",
        "# ====================================\n",
        "# 2️⃣ Chi-square Distribution\n",
        "# ====================================\n",
        "df = 4\n",
        "samples_chi2 = chi2.rvs(df, size=100, random_state=5102)\n",
        "x = np.linspace(0, max(samples_chi2)+2, 100)\n",
        "pdf_vals = chi2.pdf(x, df)\n",
        "\n",
        "plt.subplot(1, 3, 2)\n",
        "plt.hist(samples_chi2, bins=15, density=True, color='lightgreen',\n",
        "         edgecolor='black', alpha=0.7, label='Sample Histogram')\n",
        "plt.plot(x, pdf_vals, 'r-', linewidth=2, label='Theoretical PDF')\n",
        "plt.title('Chi-square(df=4)')\n",
        "plt.xlabel('x')\n",
        "plt.ylabel('Density')\n",
        "plt.legend()"
      ],
      "metadata": {
        "id": "iN8Qr3dYcCYe",
        "outputId": "3a435ec6-5ef0-4ed2-a571-46db6baee597",
        "colab": {
          "base_uri": "https://localhost:8080/",
          "height": 428
        }
      },
      "execution_count": 2,
      "outputs": [
        {
          "output_type": "execute_result",
          "data": {
            "text/plain": [
              "<matplotlib.legend.Legend at 0x7bb7e307ea80>"
            ]
          },
          "metadata": {},
          "execution_count": 2
        },
        {
          "output_type": "display_data",
          "data": {
            "text/plain": [
              "<Figure size 1200x400 with 2 Axes>"
            ],
            "image/png": "[encoded data removed]"
          },
          "metadata": {}
        }
      ]
    },
    {
      "cell_type": "code",
      "source": [
        "import numpy as np\n",
        "from scipy.stats import poisson\n",
        "\n",
        "# Set random seed\n",
        "np.random.seed(5102)\n",
        "\n",
        "# True parameter\n",
        "lam_true = 3\n",
        "\n",
        "# Generate 100 random samples\n",
        "samples = poisson.rvs(mu=lam_true, size=100, random_state=5102)\n",
        "\n",
        "# MLE estimation (sample mean)\n",
        "lam_hat = np.mean(samples)\n",
        "\n",
        "print(\"=== Poisson Distribution (λ = 3) ===\")\n",
        "print(\"Generated 100 samples:\", samples[:15], \"...\")\n",
        "print(\"True λ =\", lam_true)\n",
        "print(\"Estimated λ (MLE) =\", lam_hat)\n",
        "print(\"Difference =\", lam_hat - lam_true)\n"
      ],
      "metadata": {
        "colab": {
          "base_uri": "https://localhost:8080/"
        },
        "id": "QIcZNVeujde0",
        "outputId": "bc0c4dc6-ee75-497e-eea1-f7a34d7de383"
      },
      "execution_count": 3,
      "outputs": [
        {
          "output_type": "stream",
          "name": "stdout",
          "text": [
            "=== Poisson Distribution (λ = 3) ===\n",
            "Generated 100 samples: [4 2 3 2 6 2 5 5 3 2 4 6 0 4 4] ...\n",
            "True λ = 3\n",
            "Estimated λ (MLE) = 3.1\n",
            "Difference = 0.10000000000000009\n"
          ]
        }
      ]
    },
    {
      "cell_type": "markdown",
      "source": [
        "# Q3"
      ],
      "metadata": {
        "id": "HaX9PVo2yTdm"
      }
    },
    {
      "cell_type": "markdown",
      "source": [
        "\\[$\n",
        "X_{11}, \\dots, X_{1n_1} \\sim N(\\mu_1, \\sigma_1^2), \\quad n_1 = 50,\n",
        "$\\]\n",
        "\n",
        "\\[$\n",
        "X_{21}, \\dots, X_{2n_2} \\sim N(\\mu_2, \\sigma_2^2), \\quad n_2 = 30,\n",
        "$\\]\n",
        "\n",
        "with parameters $\\mu_1=15$, $\\sigma_1^2=10$, $\\mu_2=20$, $\\sigma_2^2=10$.  \n",
        "Random seed = 5102.\n"
      ],
      "metadata": {
        "id": "U3AzSKlXW1SW"
      }
    },
    {
      "cell_type": "markdown",
      "source": [
        "# (b) Known variance $\\sigma_1^2=10$, unknown $\\mu_1$ (99\\% CI)"
      ],
      "metadata": {
        "id": "sFHn9irgXoRT"
      }
    },
    {
      "cell_type": "markdown",
      "source": [
        "\\[$\n",
        "\\mu_1 \\in\n",
        "\\left[\n",
        "\\bar X_1 - z_{0.995}\\frac{\\sigma_1}{\\sqrt{n_1}},\n",
        "\\;\n",
        "\\bar X_1 + z_{0.995}\\frac{\\sigma_1}{\\sqrt{n_1}}\n",
        "\\right].\n",
        "$\\]"
      ],
      "metadata": {
        "id": "Dh7A8JgkY2bX"
      }
    },
    {
      "cell_type": "code",
      "source": [
        "import numpy as np\n",
        "from scipy import stats\n",
        "\n",
        "np.random.seed(5102)\n",
        "mu1, sigma1_sq = 15, 10\n",
        "mu2, sigma2_sq = 20, 10\n",
        "n1, n2 = 50, 30\n",
        "\n",
        "data1 = np.random.normal(mu1, np.sqrt(sigma1_sq), n1)\n",
        "data2 = np.random.normal(mu2, np.sqrt(sigma2_sq), n2)\n",
        "\n",
        "# b. Known variance σ1²=10, CI for µ1 (99%)\n",
        "z = stats.norm.ppf(1 - 0.005)\n",
        "mu1_hat = np.mean(data1)\n",
        "ci_mu1_known = (\n",
        "    mu1_hat - z * np.sqrt(sigma1_sq/n1),\n",
        "    mu1_hat + z * np.sqrt(sigma1_sq/n1)\n",
        ")\n",
        "\n",
        "\n",
        "\n",
        "print(\"b) 99% CI for µ1 (known σ1²):\", [f\"{x:.4f}\" for x in ci_mu1_known])"
      ],
      "metadata": {
        "colab": {
          "base_uri": "https://localhost:8080/"
        },
        "id": "DGKafqs6yU_g",
        "outputId": "536d1c27-3b5a-4491-dced-ffeab67c1d91"
      },
      "execution_count": 4,
      "outputs": [
        {
          "output_type": "stream",
          "name": "stdout",
          "text": [
            "b) 99% CI for µ1 (known σ1²): ['13.8776', '16.1815']\n"
          ]
        }
      ]
    },
    {
      "cell_type": "markdown",
      "source": [
        "# (c) Unknown $\\sigma_1^2$, unknown $\\mu_1$ (99\\% CI)"
      ],
      "metadata": {
        "id": "ZlkHLsHjYN-V"
      }
    },
    {
      "cell_type": "markdown",
      "source": [
        "\\[$\n",
        "\\mu_1 \\in\n",
        "\\left[\n",
        "\\bar X_1 - t_{49,0.995}\\frac{S_1}{\\sqrt{n_1}},\n",
        "\\;\n",
        "\\bar X_1 + t_{49,0.995}\\frac{S_1}{\\sqrt{n_1}}\n",
        "\\right].\n",
        "$\\]\n",
        "\n",
        "Using $t_{49,0.995}=2.68$, $S_1\\approx2.54$, we get:\n",
        "\n",
        "\\[$\n",
        "\\boxed{\\mu_1 \\in (14.07,\\, 15.99)}\n",
        "$\\]"
      ],
      "metadata": {
        "id": "74afEW5IZBFk"
      }
    },
    {
      "cell_type": "code",
      "source": [
        "# c. Unknown variance σ1², CI for µ1 (99%)\n",
        "t = stats.t.ppf(1 - 0.005, df=n1-1)\n",
        "s1 = np.std(data1, ddof=1)\n",
        "ci_mu1_unknown = (\n",
        "    mu1_hat - t * s1/np.sqrt(n1),\n",
        "    mu1_hat + t * s1/np.sqrt(n1)\n",
        ")\n",
        "print(\"c) 99% CI for µ1 (unknown σ1²):\", [f\"{x:.4f}\" for x in ci_mu1_unknown])\n"
      ],
      "metadata": {
        "id": "UbnPQ_LQX5zo",
        "colab": {
          "base_uri": "https://localhost:8080/"
        },
        "outputId": "902d25d6-c8fb-40dd-9db4-af6242ea6d0f"
      },
      "execution_count": 5,
      "outputs": [
        {
          "output_type": "stream",
          "name": "stdout",
          "text": [
            "c) 99% CI for µ1 (unknown σ1²): ['14.0655', '15.9937']\n"
          ]
        }
      ]
    },
    {
      "cell_type": "markdown",
      "source": [
        "# (d) Known $\\sigma_1^2=\\sigma_2^2=10$, CI for $\\mu_1-\\mu_2$ (95\\%)"
      ],
      "metadata": {
        "id": "yaawDvzGYUT8"
      }
    },
    {
      "cell_type": "markdown",
      "source": [
        "\\[$\n",
        "\\mu_1 - \\mu_2 \\in\n",
        "\\left[\n",
        "(\\bar X_1 - \\bar X_2) - z_{0.975}\\sqrt{\\frac{10}{n_1}+\\frac{10}{n_2}},\n",
        "\\;\n",
        "(\\bar X_1 - \\bar X_2) + z_{0.975}\\sqrt{\\frac{10}{n_1}+\\frac{10}{n_2}}\n",
        "\\right]\n",
        "$\\]"
      ],
      "metadata": {
        "id": "6i9h5qwPZjhr"
      }
    },
    {
      "cell_type": "code",
      "source": [
        "# d. Known σ1²=σ2²=10, CI for µ1-µ2 (95%)\n",
        "z = stats.norm.ppf(1 - 0.025)\n",
        "diff_mean = np.mean(data1) - np.mean(data2)\n",
        "ci_diff_known = (\n",
        "    diff_mean - z * np.sqrt(10/n1 + 10/n2),\n",
        "    diff_mean + z * np.sqrt(10/n1 + 10/n2)\n",
        ")\n",
        "print(\"d) 95% CI for µ1 - µ2 (known σ):\", [f\"{x:.4f}\" for x in ci_diff_known])\n"
      ],
      "metadata": {
        "id": "iIzgSk7fX93B",
        "colab": {
          "base_uri": "https://localhost:8080/"
        },
        "outputId": "e772fb55-5028-4bde-eb14-3e6899a5f5b3"
      },
      "execution_count": 6,
      "outputs": [
        {
          "output_type": "stream",
          "name": "stdout",
          "text": [
            "d) 95% CI for µ1 - µ2 (known σ): ['-6.0894', '-3.2267']\n"
          ]
        }
      ]
    },
    {
      "cell_type": "markdown",
      "source": [
        "# (e) Equal but unknown variances (99\\%)"
      ],
      "metadata": {
        "id": "OiN84KqQYYcT"
      }
    },
    {
      "cell_type": "markdown",
      "source": [
        "\\[$\n",
        "\\mu_1 - \\mu_2 \\in\n",
        "\\left[\n",
        "(\\bar X_1-\\bar X_2) - t_{78,0.995}S_p\\sqrt{\\frac{1}{n_1}+\\frac{1}{n_2}},\n",
        "\\;\n",
        "(\\bar X_1-\\bar X_2) + t_{78,0.995}S_p\\sqrt{\\frac{1}{n_1}+\\frac{1}{n_2}}\n",
        "\\right]\n",
        "$\\]"
      ],
      "metadata": {
        "id": "CVKTRhPsZog0"
      }
    },
    {
      "cell_type": "code",
      "source": [
        "# e. Unknown but equal variance, CI for µ1-µ2 (99%)\n",
        "t = stats.t.ppf(1 - 0.005, df=n1 + n2 - 2)\n",
        "s_pooled = np.sqrt(((n1-1)*s1**2 + (n2-1)*np.var(data2, ddof=1)) / (n1+n2-2))\n",
        "ci_diff_unknown = (\n",
        "    diff_mean - t * s_pooled * np.sqrt(1/n1 + 1/n2),\n",
        "    diff_mean + t * s_pooled * np.sqrt(1/n1 + 1/n2)\n",
        ")\n",
        "print(\"e) 99% CI for µ1 - µ2 (unknown but equal σ):\", [f\"{x:.4f}\" for x in ci_diff_unknown])"
      ],
      "metadata": {
        "id": "eVpFoCAvYAyQ",
        "colab": {
          "base_uri": "https://localhost:8080/"
        },
        "outputId": "1cf0dfbf-9b1c-4637-be26-7981fedf98a5"
      },
      "execution_count": 7,
      "outputs": [
        {
          "output_type": "stream",
          "name": "stdout",
          "text": [
            "e) 99% CI for µ1 - µ2 (unknown but equal σ): ['-6.5655', '-2.7507']\n"
          ]
        }
      ]
    },
    {
      "cell_type": "markdown",
      "source": [
        "\\[$\n",
        "\\sigma_1^2 \\in\n",
        "\\left[\n",
        "\\frac{\\sum (X_{1i}-\\mu_0)^2}{\\chi^2_{n_1,0.975}},\n",
        "\\;\n",
        "\\frac{\\sum (X_{1i}-\\mu_0)^2}{\\chi^2_{n_1,0.025}}\n",
        "\\right]\n",
        "$\\]"
      ],
      "metadata": {
        "id": "DZP0SAo6Zzfv"
      }
    },
    {
      "cell_type": "code",
      "source": [
        "import numpy as np\n",
        "from scipy import stats\n",
        "\n",
        "data1 = np.random.normal(mu1, np.sqrt(sigma1_sq), n1)\n",
        "\n",
        "# ---- (f) Known mean μ1=5, unknown variance ----\n",
        "mu0 = 5\n",
        "alpha = 0.05\n",
        "df = n1\n",
        "\n",
        "sum_sq = np.sum((data1 - mu0)**2)\n",
        "\n",
        "chi2_lower = stats.chi2.ppf(1 - alpha/2, df)\n",
        "chi2_upper = stats.chi2.ppf(alpha/2, df)\n",
        "\n",
        "ci_sigma2_known_mu = (\n",
        "    sum_sq / chi2_lower,\n",
        "    sum_sq / chi2_upper\n",
        ")\n",
        "\n",
        "print(\"Q3(f): 95% CI for σ₁² (known μ₁=5):\", [f\"{x:.4f}\" for x in ci_sigma2_known_mu])\n"
      ],
      "metadata": {
        "colab": {
          "base_uri": "https://localhost:8080/"
        },
        "id": "EH9YCiYKWHs_",
        "outputId": "c6fd3fdb-3455-4726-ce59-00c1389b9a78"
      },
      "execution_count": 8,
      "outputs": [
        {
          "output_type": "stream",
          "name": "stdout",
          "text": [
            "Q3(f): 95% CI for σ₁² (known μ₁=5): ['77.0878', '170.1506']\n"
          ]
        }
      ]
    },
    {
      "cell_type": "markdown",
      "source": [
        "\\[$\n",
        "\\sigma_1^2 \\in\n",
        "\\left[\n",
        "\\frac{(n_1-1)S_1^2}{\\chi^2_{49,0.975}},\n",
        "\\;\n",
        "\\frac{(n_1-1)S_1^2}{\\chi^2_{49,0.025}}\n",
        "\\right]\n",
        "$\\]"
      ],
      "metadata": {
        "id": "z0D7CbNyZ60j"
      }
    },
    {
      "cell_type": "code",
      "source": [
        "# ---- (g) Both μ1 and σ1² unknown ----\n",
        "df = n1 - 1\n",
        "s1_sq = np.var(data1, ddof=1)\n",
        "\n",
        "chi2_lower = stats.chi2.ppf(1 - alpha/2, df)\n",
        "chi2_upper = stats.chi2.ppf(alpha/2, df)\n",
        "\n",
        "ci_sigma2_unknown = (\n",
        "    (df * s1_sq) / chi2_lower,\n",
        "    (df * s1_sq) / chi2_upper\n",
        ")\n",
        "\n",
        "print(\"Q3(g): 95% CI for σ₁² (unknown μ₁, σ₁²):\",[f\"{x:.4f}\" for x in ci_sigma2_unknown])\n"
      ],
      "metadata": {
        "colab": {
          "base_uri": "https://localhost:8080/"
        },
        "id": "iKbO-RldWIvL",
        "outputId": "24a94206-1c99-447c-f820-55dec4750f52"
      },
      "execution_count": 9,
      "outputs": [
        {
          "output_type": "stream",
          "name": "stdout",
          "text": [
            "Q3(g): 95% CI for σ₁² (unknown μ₁, σ₁²): ['9.9036', '22.0395']\n"
          ]
        }
      ]
    }
  ]
}